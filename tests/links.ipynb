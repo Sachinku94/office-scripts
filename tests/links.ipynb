{
 "cells": [
  {
   "cell_type": "code",
   "execution_count": 1,
   "metadata": {},
   "outputs": [],
   "source": [
    "import requests\n",
    "from bs4 import BeautifulSoup\n",
    "import pandas as pd\n",
    "file = r'Newd.xlsx'\n",
    "df = pd.read_excel(file)\n",
    "urls = df[\"url\"].tolist()\n",
    "img_srcs = []\n"
   ]
  },
  {
   "cell_type": "code",
   "execution_count": 2,
   "metadata": {},
   "outputs": [],
   "source": [
    "for url in urls:\n",
    "    try:\n",
    "        response = requests.get(url)\n",
    "        response.raise_for_status()  # Check for request errors\n",
    "\n",
    "        # Step 4: Parse the HTML content\n",
    "        soup = BeautifulSoup(response.content, 'html.parser')\n",
    "        images = soup.find_all('img')\n",
    "\n",
    "        # Collecting the 'src' of each image\n",
    "        for img in images:\n",
    "            img_src = img.get('src')\n",
    "            if img_src:\n",
    "                if 'https://img-dev.physiciansweekly.com/' not in img_src:\n",
    "                    img_srcs.append({'URL': url, 'Image Src': img_src})\n",
    "\n",
    "    except requests.exceptions.RequestException as e:\n",
    "        print(f\"Failed to retrieve {url}: {e}\")"
   ]
  },
  {
   "cell_type": "code",
   "execution_count": 3,
   "metadata": {},
   "outputs": [
    {
     "data": {
      "text/plain": [
       "0                       https://cdn.physiciansweekly.com/\n",
       "1           https://cdn.physiciansweekly.com/specialties/\n",
       "2            https://cdn.physiciansweekly.com/contact-us/\n",
       "3       https://cdn.physiciansweekly.com/category/card...\n",
       "4       https://cdn.physiciansweekly.com/category/crit...\n",
       "                              ...                        \n",
       "6651    https://cdn.physiciansweekly.com/dense-breasts...\n",
       "6652    https://cdn.physiciansweekly.com/new-device-sa...\n",
       "6653    https://cdn.physiciansweekly.com/guideline-iss...\n",
       "6654    https://cdn.physiciansweekly.com/overall-breas...\n",
       "6655    https://cdn.physiciansweekly.com/2021-uspstf-l...\n",
       "Name: URL's, Length: 6656, dtype: object"
      ]
     },
     "execution_count": 3,
     "metadata": {},
     "output_type": "execute_result"
    }
   ],
   "source": [
    "img_srcs_df = pd.DataFrame(img_srcs)\n",
    "\n",
    "# Save the DataFrame to a new Excel file\n",
    "output_file = 'image_sources.xlsx'\n",
    "img_srcs_df.to_excel(output_file, index=False)\n",
    "\n",
    "print(f\"Image sources have been saved to {output_file}\")"
   ]
  }
 ],
 "metadata": {
  "kernelspec": {
   "display_name": "Python 3",
   "language": "python",
   "name": "python3"
  },
  "language_info": {
   "codemirror_mode": {
    "name": "ipython",
    "version": 3
   },
   "file_extension": ".py",
   "mimetype": "text/x-python",
   "name": "python",
   "nbconvert_exporter": "python",
   "pygments_lexer": "ipython3",
   "version": "3.11.5"
  }
 },
 "nbformat": 4,
 "nbformat_minor": 2
}
