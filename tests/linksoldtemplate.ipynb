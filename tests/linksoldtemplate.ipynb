{
 "cells": [
  {
   "cell_type": "code",
   "execution_count": 1,
   "metadata": {},
   "outputs": [],
   "source": [
    "import requests\n",
    "from bs4 import BeautifulSoup\n",
    "import pandas as pd\n",
    "file = r'C:\\Users\\Primotech\\Documents\\pw-linkstesting\\pw test links_fails.xlsx'\n",
    "df = pd.read_excel(file)\n",
    "urls = df[\"url\"].tolist()\n",
    "form_srcs = []\n"
   ]
  },
  {
   "cell_type": "code",
   "execution_count": 2,
   "metadata": {},
   "outputs": [],
   "source": [
    "for url in urls:\n",
    "    try:\n",
    "        response = requests.get(url)\n",
    "        response.raise_for_status()  # Check for request errors\n",
    "\n",
    "        # Step 4: Parse the HTML content\n",
    "        soup = BeautifulSoup(response.content, 'html.parser')\n",
    "        Form = soup.find_all('form')\n",
    "\n",
    "        # Collecting the 'src' of each image\n",
    "        for frm in Form:\n",
    "            frm_src = frm.get('action')\n",
    "            if frm_src:\n",
    "                if 'https://preferences.physiciansweekly.com/newsletter-signup'  in frm_src:\n",
    "                    form_srcs.append({'URL': url, 'Image Src': frm_src})\n",
    "\n",
    "    except requests.exceptions.RequestException as e:\n",
    "        print(f\"Failed to retrieve {url}: {e}\")"
   ]
  },
  {
   "cell_type": "code",
   "execution_count": 3,
   "metadata": {},
   "outputs": [
    {
     "data": {
      "text/plain": [
       "0                       https://cdn.physiciansweekly.com/\n",
       "1           https://cdn.physiciansweekly.com/specialties/\n",
       "2            https://cdn.physiciansweekly.com/contact-us/\n",
       "3       https://cdn.physiciansweekly.com/category/card...\n",
       "4       https://cdn.physiciansweekly.com/category/crit...\n",
       "                              ...                        \n",
       "6651    https://cdn.physiciansweekly.com/dense-breasts...\n",
       "6652    https://cdn.physiciansweekly.com/new-device-sa...\n",
       "6653    https://cdn.physiciansweekly.com/guideline-iss...\n",
       "6654    https://cdn.physiciansweekly.com/overall-breas...\n",
       "6655    https://cdn.physiciansweekly.com/2021-uspstf-l...\n",
       "Name: URL's, Length: 6656, dtype: object"
      ]
     },
     "execution_count": 3,
     "metadata": {},
     "output_type": "execute_result"
    }
   ],
   "source": [
    "form_srcs_df = pd.DataFrame(form_srcs)\n",
    "\n",
    "# Save the DataFrame to a new Excel file\n",
    "output_file = 'oldtemplate_sources.xlsx'\n",
    "form_srcs_df.to_excel(output_file, index=False)\n",
    "\n",
    "print(f\"Image sources have been saved to {output_file}\")"
   ]
  }
 ],
 "metadata": {
  "kernelspec": {
   "display_name": "Python 3",
   "language": "python",
   "name": "python3"
  },
  "language_info": {
   "codemirror_mode": {
    "name": "ipython",
    "version": 3
   },
   "file_extension": ".py",
   "mimetype": "text/x-python",
   "name": "python",
   "nbconvert_exporter": "python",
   "pygments_lexer": "ipython3",
   "version": "3.11.5"
  }
 },
 "nbformat": 4,
 "nbformat_minor": 2
}
