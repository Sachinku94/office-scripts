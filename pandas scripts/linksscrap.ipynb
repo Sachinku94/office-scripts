{
 "cells": [
  {
   "cell_type": "code",
   "execution_count": 9,
   "id": "9fcc2f65-feaf-49b2-85d3-d75d059aed1c",
   "metadata": {},
   "outputs": [],
   "source": [
    "import requests\n",
    "from bs4 import BeautifulSoup\n",
    "from urllib.parse import urljoin\n",
    "import pandas as pd\n",
    "\n",
    "# Base URL\n",
    "base_url = \"https://navratanfateh.com/\"\n",
    "resultlinks=[]"
   ]
  },
  {
   "cell_type": "code",
   "execution_count": 10,
   "id": "6fe9735c-3d37-4c84-895f-a7cec9fe62e5",
   "metadata": {},
   "outputs": [],
   "source": [
    "def get_all_links(url):\n",
    "    response = requests.get(url)\n",
    "    soup = BeautifulSoup(response.text, \"html.parser\")\n",
    "    links = []\n",
    "    \n",
    "\n",
    "    # Find all anchor tags with href attributes\n",
    "    for a_tag in soup.find_all(\"a\", href=True):\n",
    "        href = a_tag.get(\"href\")\n",
    "        full_url = urljoin(url, href)\n",
    "        links.append(full_url)\n",
    "\n",
    "    return links"
   ]
  },
  {
   "cell_type": "code",
   "execution_count": 11,
   "id": "e1deaae7-a5df-4a4f-8fd0-d31c340df49b",
   "metadata": {},
   "outputs": [],
   "source": [
    "def check_links_status(links):\n",
    "    for link in links:\n",
    "        try:\n",
    "            response = requests.get(link)\n",
    "            resultlinks.append(f\"URL: {link} - Status: {response.status_code}\")\n",
    "        except requests.exceptions.RequestException as e:\n",
    "            resultlinks.extend(f\"URL: {link} - Error: {e}\")\n",
    "\n",
    "# Scrape the website\n",
    "if __name__ == \"__main__\":\n",
    "    all_links = get_all_links(base_url)\n",
    "    check_links_status(all_links)"
   ]
  },
  {
   "cell_type": "code",
   "execution_count": 12,
   "id": "40bf7a24-b0f1-4196-8908-afa317c3ebe8",
   "metadata": {},
   "outputs": [
    {
     "name": "stdout",
     "output_type": "stream",
     "text": [
      "                                                    0\n",
      "0   URL: https://navratanfateh.com/#content - Stat...\n",
      "1       URL: https://navratanfateh.com/ - Status: 200\n",
      "2       URL: https://navratanfateh.com/ - Status: 200\n",
      "3   URL: https://navratanfateh.com/immigration-law...\n",
      "4   URL: https://navratanfateh.com/practice-areas/...\n",
      "5   URL: https://navratanfateh.com/temporary-resid...\n",
      "6   URL: https://navratanfateh.com/practice-areas/...\n",
      "7   URL: https://navratanfateh.com/practice-areas/...\n",
      "8   URL: https://navratanfateh.com/permanent-resid...\n",
      "9   URL: https://navratanfateh.com/study-permit/ -...\n",
      "10  URL: https://navratanfateh.com/rehabilitation/...\n",
      "11  URL: https://navratanfateh.com/practice-areas/...\n",
      "12  URL: https://navratanfateh.com/atip/ - Status:...\n",
      "13  URL: https://navratanfateh.com/spouse-visa/ - ...\n",
      "14  URL: https://navratanfateh.com/canada-visitor-...\n",
      "15  URL: https://navratanfateh.com/study-visa/ - S...\n",
      "16  URL: https://navratanfateh.com/contact-us/ - S...\n",
      "17  URL: https://navratanfateh.com/canadian-immigr...\n",
      "18  URL: https://navratanfateh.com/practice-areas/...\n",
      "19  URL: https://navratanfateh.com/contact-us/ - S...\n"
     ]
    }
   ],
   "source": [
    "form_srcs_df = pd.DataFrame(resultlinks)\n",
    "\n",
    "# Display the DataFrame to check the results\n",
    "print(form_srcs_df)\n",
    "\n",
    "# Save the DataFrame to a new Excel file\n",
    "output_file = r'C:\\Users\\Primotech\\Documents\\pw-linkstesting\\navrresult.xlsx'\n",
    "form_srcs_df.to_excel(output_file, index=False)"
   ]
  }
 ],
 "metadata": {
  "kernelspec": {
   "display_name": "Python 3 (ipykernel)",
   "language": "python",
   "name": "python3"
  },
  "language_info": {
   "codemirror_mode": {
    "name": "ipython",
    "version": 3
   },
   "file_extension": ".py",
   "mimetype": "text/x-python",
   "name": "python",
   "nbconvert_exporter": "python",
   "pygments_lexer": "ipython3",
   "version": "3.11.7"
  }
 },
 "nbformat": 4,
 "nbformat_minor": 5
}
